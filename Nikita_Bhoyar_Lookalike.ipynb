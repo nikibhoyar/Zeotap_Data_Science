{
 "cells": [
  {
   "cell_type": "code",
   "execution_count": 1,
   "id": "9a7d7451-9fa8-48bb-adc0-b4e84cbfafda",
   "metadata": {},
   "outputs": [],
   "source": [
    "import pandas as pd\n",
    "from sklearn.preprocessing import StandardScaler\n",
    "from sklearn.metrics.pairwise import cosine_similarity"
   ]
  },
  {
   "cell_type": "code",
   "execution_count": 2,
   "id": "4ee80c22-de4e-40b5-be98-6adc1128fb7e",
   "metadata": {},
   "outputs": [],
   "source": [
    "customers = pd.read_csv(\"Customers.csv\")\n",
    "products = pd.read_csv(\"Products.csv\")\n",
    "transactions = pd.read_csv(\"Transactions.csv\")"
   ]
  },
  {
   "cell_type": "code",
   "execution_count": 3,
   "id": "0a815b71-a59f-491d-92e9-42a1db1e56ab",
   "metadata": {},
   "outputs": [],
   "source": [
    "# Merge datasets\n",
    "transactions = transactions.merge(products, on='ProductID', how='left')\n",
    "customer_transactions = transactions.groupby('CustomerID').agg({\n",
    "    'Category': lambda x: ' '.join(x),  # Combine product categories for each customer\n",
    "    'TotalValue': 'sum',               # Total spending by customer\n",
    "    'TransactionID': 'count'           # Number of transactions\n",
    "}).reset_index()"
   ]
  },
  {
   "cell_type": "code",
   "execution_count": 4,
   "id": "b6d0a207-2de6-4694-9ee6-66596110d821",
   "metadata": {},
   "outputs": [],
   "source": [
    "# Merge customer profiles with customer data\n",
    "customer_data = customers.merge(customer_transactions, on='CustomerID', how='left').fillna({\n",
    "    'Category': '', 'TotalValue': 0, 'TransactionID': 0\n",
    "})"
   ]
  },
  {
   "cell_type": "code",
   "execution_count": 5,
   "id": "8a8feaf8-b357-4ad8-bb06-753d7b4679c7",
   "metadata": {},
   "outputs": [],
   "source": [
    "# Encode product categories and region\n",
    "category_encoded = customer_data['Category'].str.get_dummies(sep=' ')\n",
    "region_encoded = pd.get_dummies(customer_data['Region'], prefix=\"region\")\n",
    "\n",
    "# Combine all features\n",
    "features = pd.concat([\n",
    "    customer_data[['TotalValue', 'TransactionID']],\n",
    "    category_encoded,\n",
    "    region_encoded\n",
    "], axis=1)"
   ]
  },
  {
   "cell_type": "code",
   "execution_count": 6,
   "id": "653967cc-a422-47df-919e-522198602c21",
   "metadata": {},
   "outputs": [],
   "source": [
    "# Normalize numerical features\n",
    "scaler = StandardScaler()\n",
    "features[['TotalValue', 'TransactionID']] = scaler.fit_transform(features[['TotalValue', 'TransactionID']])"
   ]
  },
  {
   "cell_type": "code",
   "execution_count": 7,
   "id": "002d8556-e46f-45c2-af4a-d2be4bb3afc7",
   "metadata": {},
   "outputs": [],
   "source": [
    "# Calculate Cosine Similarity\n",
    "similarity_matrix = cosine_similarity(features)\n",
    "similarity_df = pd.DataFrame(similarity_matrix, index=customer_data['CustomerID'], columns=customer_data['CustomerID'])\n"
   ]
  },
  {
   "cell_type": "code",
   "execution_count": 8,
   "id": "c4b8b26b-272a-4294-9f5e-b5f3469620ce",
   "metadata": {},
   "outputs": [],
   "source": [
    "# Generate Lookalike Recommendations\n",
    "lookalike_results = {}\n",
    "for idx, customer_id in enumerate(customer_data['CustomerID'][:20]):  # Limit to the first 20 customers\n",
    "    similar_customers = similarity_df[customer_id].sort_values(ascending=False)[1:4]  # Top 3 excluding self\n",
    "    lookalike_results[customer_id] = [(sim_cust, round(score, 4)) for sim_cust, score in similar_customers.items()]"
   ]
  },
  {
   "cell_type": "code",
   "execution_count": 9,
   "id": "2600c54f-bd89-494b-8833-0a1525838155",
   "metadata": {},
   "outputs": [
    {
     "name": "stdout",
     "output_type": "stream",
     "text": [
      "Nikita_Bhoyar_lookalike.csv has been generated successfully.\n"
     ]
    }
   ],
   "source": [
    "# Save results to CSV\n",
    "lookalike_df = pd.DataFrame({\n",
    "    'CustomerID': lookalike_results.keys(),\n",
    "    'Lookalikes': [str(value) for value in lookalike_results.values()]\n",
    "})\n",
    "csv_file_path = 'Nikita_Bhoyar_lookalike.csv'\n",
    "lookalike_df.to_csv(csv_file_path, index=False)\n",
    "\n",
    "csv_file_path\n",
    "print(\"Nikita_Bhoyar_lookalike.csv has been generated successfully.\")"
   ]
  },
  {
   "cell_type": "code",
   "execution_count": 10,
   "id": "3b70b069-a652-4c32-911f-9854b9b47377",
   "metadata": {},
   "outputs": [
    {
     "name": "stdout",
     "output_type": "stream",
     "text": [
      "  CustomerID                                         Lookalikes\n",
      "0      C0001  [('C0152', 1.0), ('C0174', 0.9938), ('C0085', ...\n",
      "1      C0002  [('C0159', 0.9799), ('C0134', 0.9595), ('C0043...\n",
      "2      C0003  [('C0031', 0.9871), ('C0129', 0.981), ('C0158'...\n",
      "3      C0004  [('C0012', 0.9889), ('C0102', 0.9403), ('C0113...\n",
      "4      C0005  [('C0007', 0.9922), ('C0140', 0.987), ('C0177'...\n"
     ]
    }
   ],
   "source": [
    "print(lookalike_df.head())"
   ]
  },
  {
   "cell_type": "code",
   "execution_count": 11,
   "id": "77fe95f5-7364-4cc2-ae77-bbe5dccc3e43",
   "metadata": {},
   "outputs": [
    {
     "name": "stdout",
     "output_type": "stream",
     "text": [
      "   CustomerID                                         Lookalikes\n",
      "0       C0001  [('C0152', 1.0), ('C0174', 0.9938), ('C0085', ...\n",
      "1       C0002  [('C0159', 0.9799), ('C0134', 0.9595), ('C0043...\n",
      "2       C0003  [('C0031', 0.9871), ('C0129', 0.981), ('C0158'...\n",
      "3       C0004  [('C0012', 0.9889), ('C0102', 0.9403), ('C0113...\n",
      "4       C0005  [('C0007', 0.9922), ('C0140', 0.987), ('C0177'...\n",
      "5       C0006  [('C0187', 0.9771), ('C0048', 0.8925), ('C0076...\n",
      "6       C0007  [('C0005', 0.9922), ('C0140', 0.9786), ('C0177...\n",
      "7       C0008  [('C0109', 0.9831), ('C0098', 0.9538), ('C0194...\n",
      "8       C0009  [('C0198', 0.9866), ('C0132', 0.785), ('C0074'...\n",
      "9       C0010  [('C0132', 0.9774), ('C0061', 0.9699), ('C0074...\n",
      "10      C0011  [('C0107', 0.9996), ('C0126', 0.9542), ('C0192...\n",
      "11      C0012  [('C0004', 0.9889), ('C0148', 0.9368), ('C0102...\n",
      "12      C0013  [('C0087', 0.995), ('C0155', 0.9931), ('C0099'...\n",
      "13      C0014  [('C0060', 0.9994), ('C0089', 0.9205), ('C0097...\n",
      "14      C0015  [('C0131', 0.9807), ('C0036', 0.9042), ('C0144...\n",
      "15      C0016  [('C0183', 1.0), ('C0034', 0.9529), ('C0029', ...\n",
      "16      C0017  [('C0075', 0.9802), ('C0051', 0.9719), ('C0041...\n",
      "17      C0018  [('C0067', 0.8885), ('C0117', 0.886), ('C0122'...\n",
      "18      C0019  [('C0070', 0.8461), ('C0172', 0.8043), ('C0119...\n",
      "19      C0020  [('C0058', 0.8641), ('C0033', 0.8638), ('C0130...\n"
     ]
    }
   ],
   "source": [
    "print(lookalike_df)"
   ]
  }
 ],
 "metadata": {
  "kernelspec": {
   "display_name": "Python 3 (ipykernel)",
   "language": "python",
   "name": "python3"
  },
  "language_info": {
   "codemirror_mode": {
    "name": "ipython",
    "version": 3
   },
   "file_extension": ".py",
   "mimetype": "text/x-python",
   "name": "python",
   "nbconvert_exporter": "python",
   "pygments_lexer": "ipython3",
   "version": "3.11.0"
  }
 },
 "nbformat": 4,
 "nbformat_minor": 5
}
